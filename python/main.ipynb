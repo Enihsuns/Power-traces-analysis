{
 "cells": [
  {
   "cell_type": "markdown",
   "metadata": {},
   "source": [
    "# Power traces analysis\n",
    "\n",
    "This is just a test before applying on the chips. It uses python rather than C."
   ]
  },
  {
   "cell_type": "code",
   "execution_count": 56,
   "metadata": {},
   "outputs": [],
   "source": [
    "from sklearn.model_selection import train_test_split\n",
    "import pandas as pd\n",
    "import numpy as np\n",
    "import matplotlib.pyplot as plt"
   ]
  },
  {
   "cell_type": "markdown",
   "metadata": {},
   "source": [
    "## 1. Data Preprocessing\n",
    "\n",
    "**Read data from csv file**: get data."
   ]
  },
  {
   "cell_type": "code",
   "execution_count": 2,
   "metadata": {},
   "outputs": [
    {
     "data": {
      "text/html": [
       "<div>\n",
       "<style scoped>\n",
       "    .dataframe tbody tr th:only-of-type {\n",
       "        vertical-align: middle;\n",
       "    }\n",
       "\n",
       "    .dataframe tbody tr th {\n",
       "        vertical-align: top;\n",
       "    }\n",
       "\n",
       "    .dataframe thead th {\n",
       "        text-align: right;\n",
       "    }\n",
       "</style>\n",
       "<table border=\"1\" class=\"dataframe\">\n",
       "  <thead>\n",
       "    <tr style=\"text-align: right;\">\n",
       "      <th></th>\n",
       "      <th>Series</th>\n",
       "      <th>Time</th>\n",
       "      <th>Value</th>\n",
       "    </tr>\n",
       "  </thead>\n",
       "  <tbody>\n",
       "    <tr>\n",
       "      <th>0</th>\n",
       "      <td>Black and white printer</td>\n",
       "      <td>2018-10-27 16:44:25</td>\n",
       "      <td>3.31</td>\n",
       "    </tr>\n",
       "    <tr>\n",
       "      <th>1</th>\n",
       "      <td>Black and white printer</td>\n",
       "      <td>2018-10-27 16:44:25</td>\n",
       "      <td>3.31</td>\n",
       "    </tr>\n",
       "    <tr>\n",
       "      <th>2</th>\n",
       "      <td>Black and white printer</td>\n",
       "      <td>2018-10-27 16:44:26</td>\n",
       "      <td>4.29</td>\n",
       "    </tr>\n",
       "    <tr>\n",
       "      <th>3</th>\n",
       "      <td>Black and white printer</td>\n",
       "      <td>2018-10-27 16:44:26</td>\n",
       "      <td>4.29</td>\n",
       "    </tr>\n",
       "    <tr>\n",
       "      <th>4</th>\n",
       "      <td>Black and white printer</td>\n",
       "      <td>2018-10-27 16:44:27</td>\n",
       "      <td>3.77</td>\n",
       "    </tr>\n",
       "  </tbody>\n",
       "</table>\n",
       "</div>"
      ],
      "text/plain": [
       "                    Series                Time  Value\n",
       "0  Black and white printer 2018-10-27 16:44:25   3.31\n",
       "1  Black and white printer 2018-10-27 16:44:25   3.31\n",
       "2  Black and white printer 2018-10-27 16:44:26   4.29\n",
       "3  Black and white printer 2018-10-27 16:44:26   4.29\n",
       "4  Black and white printer 2018-10-27 16:44:27   3.77"
      ]
     },
     "metadata": {},
     "output_type": "display_data"
    },
    {
     "name": "stdout",
     "output_type": "stream",
     "text": [
      "Data shape: (1940080, 3)\n"
     ]
    }
   ],
   "source": [
    "file_path = \"../dataset/grafana_data_export.csv\"\n",
    "\n",
    "data = pd.read_csv(file_path, \\\n",
    "                   error_bad_lines=False, warn_bad_lines=False, \\\n",
    "                   sep=';', thousands=',', \\\n",
    "                   dtype={'Series': 'object', 'Value': 'float'}, \\\n",
    "                   parse_dates=['Time'])\n",
    "\n",
    "display(data.head())\n",
    "print(\"Data shape: {0}\".format(data.shape))"
   ]
  },
  {
   "cell_type": "code",
   "execution_count": 3,
   "metadata": {},
   "outputs": [
    {
     "data": {
      "text/plain": [
       "Series            object\n",
       "Time      datetime64[ns]\n",
       "Value            float64\n",
       "dtype: object"
      ]
     },
     "execution_count": 3,
     "metadata": {},
     "output_type": "execute_result"
    }
   ],
   "source": [
    "data.dtypes"
   ]
  },
  {
   "cell_type": "code",
   "execution_count": 4,
   "metadata": {},
   "outputs": [
    {
     "data": {
      "image/png": "[encoded data removed]",
      "text/plain": [
       "<Figure size 1368x504 with 1 Axes>"
      ]
     },
     "metadata": {
      "needs_background": "light"
     },
     "output_type": "display_data"
    }
   ],
   "source": [
    "plt.figure(figsize=(19,7))\n",
    "plt.plot(data['Time'], data['Value'])\n",
    "plt.show()"
   ]
  },
  {
   "cell_type": "markdown",
   "metadata": {},
   "source": [
    "**Partitioning**: partition the whole power traces into small traces with a duration of *k* seconds. The label of these small traces is the corresponding value in Series."
   ]
  },
  {
   "cell_type": "code",
   "execution_count": 40,
   "metadata": {},
   "outputs": [],
   "source": [
    "def data_partition(time, series, value, k, do_print=False):\n",
    "    \"\"\" Partition data\n",
    "    \n",
    "    Args:\n",
    "        time: (np.array) the 'Time' column in data\n",
    "        series: (np.array) the 'Series' column in data\n",
    "        value: (np.array) the 'Value' column in data\n",
    "        k: (int) indicate the length of small time interval\n",
    "        do_print: (boolean) print current status or not.\n",
    "    \n",
    "    Returns:\n",
    "        cnt: (int) the number of found valid small traces\n",
    "        part_time: (np.array) the start time of the corresponding small trace partition\n",
    "        part_series: (np.array) label of the corresponding trace\n",
    "        part_value: (2d np.array) the power traces\n",
    "    \"\"\"\n",
    "    n = len(time)\n",
    "    part_time = np.zeros(n, dtype='datetime64[s]')\n",
    "    part_series = np.zeros(n, dtype='object')\n",
    "    part_value =  np.zeros([n, k], dtype='float')\n",
    "    last_time = time[0] - np.timedelta64(1, 's')\n",
    "    \n",
    "    cnt = 0 # count of found valid small traces\n",
    "    for i in range(n):\n",
    "        # print current status\n",
    "        if(do_print and i%50000 == 0):\n",
    "            print(\"Current iteration: {0}\".format(i))\n",
    "        # avoid repetition\n",
    "        if time[i] - last_time == np.timedelta64(0, 'ns'):\n",
    "            continue\n",
    "        last_time = time[i]\n",
    "        \n",
    "        # get current partition\n",
    "        cur_label = series[i]\n",
    "        cur_part = np.full(k, np.nan)\n",
    "        for j in range(i, n):\n",
    "            idx = int((time[j] - time[i]) / np.timedelta64(1, 's'))\n",
    "            if(series[j] != cur_label or idx >= k or idx < 0):\n",
    "                break\n",
    "            cur_part[idx] = value[j]\n",
    "            \n",
    "        if(len(cur_part) < k): # ignore too short power traces\n",
    "            continue;\n",
    "        \n",
    "        # do interpolation for missing values\n",
    "        for j in range(len(cur_part)): \n",
    "            if(np.isnan(cur_part[j])):\n",
    "                cur_part[j] = cur_part[j - 1]\n",
    "        \n",
    "        # save the partitioned data\n",
    "        part_time[cnt] = time[i]\n",
    "        part_series[cnt] = cur_label\n",
    "        part_value[cnt] = cur_part\n",
    "        cnt += 1;\n",
    "    \n",
    "    return cnt, part_time[:cnt], part_series[:cnt], part_value[:cnt]"
   ]
  },
  {
   "cell_type": "code",
   "execution_count": 41,
   "metadata": {
    "scrolled": true
   },
   "outputs": [
    {
     "name": "stdout",
     "output_type": "stream",
     "text": [
      "Current iteration: 0\n",
      "Current iteration: 50000\n",
      "Current iteration: 100000\n",
      "Current iteration: 150000\n",
      "Current iteration: 200000\n",
      "Current iteration: 250000\n",
      "Current iteration: 300000\n",
      "Current iteration: 350000\n",
      "Current iteration: 400000\n",
      "Current iteration: 450000\n",
      "Current iteration: 500000\n",
      "Current iteration: 550000\n",
      "Current iteration: 600000\n",
      "Current iteration: 650000\n",
      "Current iteration: 700000\n",
      "Current iteration: 750000\n",
      "Current iteration: 800000\n",
      "Current iteration: 850000\n",
      "Current iteration: 900000\n",
      "Current iteration: 950000\n",
      "Current iteration: 1000000\n",
      "Current iteration: 1050000\n",
      "Current iteration: 1100000\n",
      "Current iteration: 1150000\n",
      "Current iteration: 1200000\n",
      "Current iteration: 1250000\n",
      "Current iteration: 1300000\n",
      "Current iteration: 1350000\n",
      "Current iteration: 1400000\n",
      "Current iteration: 1450000\n",
      "Current iteration: 1500000\n",
      "Current iteration: 1550000\n",
      "Current iteration: 1600000\n",
      "Current iteration: 1650000\n",
      "Current iteration: 1700000\n",
      "Current iteration: 1750000\n",
      "Current iteration: 1800000\n",
      "Current iteration: 1850000\n",
      "Current iteration: 1900000\n"
     ]
    }
   ],
   "source": [
    "k = 10\n",
    "data_time, data_series, data_value = pd.np.array(data['Time']), pd.np.array(data['Series']), pd.np.array(data['Value'])\n",
    "\n",
    "cnt, part_time, part_series, part_value = data_partition(data_time, data_series, data_value, k, do_print=True)"
   ]
  },
  {
   "cell_type": "code",
   "execution_count": 53,
   "metadata": {},
   "outputs": [],
   "source": [
    "data_part_df = pd.DataFrame([part_time, part_series, part_value])"
   ]
  },
  {
   "cell_type": "code",
   "execution_count": 54,
   "metadata": {
    "scrolled": true
   },
   "outputs": [],
   "source": [
    "data_part_df = data_part_df.T\n",
    "data_part_df.columns = [\"time\", \"series\", \"partition_values\"]"
   ]
  },
  {
   "cell_type": "code",
   "execution_count": 55,
   "metadata": {},
   "outputs": [
    {
     "data": {
      "text/html": [
       "<div>\n",
       "<style scoped>\n",
       "    .dataframe tbody tr th:only-of-type {\n",
       "        vertical-align: middle;\n",
       "    }\n",
       "\n",
       "    .dataframe tbody tr th {\n",
       "        vertical-align: top;\n",
       "    }\n",
       "\n",
       "    .dataframe thead th {\n",
       "        text-align: right;\n",
       "    }\n",
       "</style>\n",
       "<table border=\"1\" class=\"dataframe\">\n",
       "  <thead>\n",
       "    <tr style=\"text-align: right;\">\n",
       "      <th></th>\n",
       "      <th>time</th>\n",
       "      <th>series</th>\n",
       "      <th>partition_values</th>\n",
       "    </tr>\n",
       "  </thead>\n",
       "  <tbody>\n",
       "    <tr>\n",
       "      <th>0</th>\n",
       "      <td>2018-10-27T16:44:25</td>\n",
       "      <td>Black and white printer</td>\n",
       "      <td>[3.31, 4.29, 3.77, 4.03, 4.03, 2.71, 3.11, 2.3...</td>\n",
       "    </tr>\n",
       "    <tr>\n",
       "      <th>1</th>\n",
       "      <td>2018-10-27T16:44:26</td>\n",
       "      <td>Black and white printer</td>\n",
       "      <td>[4.29, 3.77, 4.03, 4.03, 2.71, 3.11, 2.36, 2.3...</td>\n",
       "    </tr>\n",
       "    <tr>\n",
       "      <th>2</th>\n",
       "      <td>2018-10-27T16:44:27</td>\n",
       "      <td>Black and white printer</td>\n",
       "      <td>[3.77, 4.03, 4.03, 2.71, 3.11, 2.36, 2.36, 2.3...</td>\n",
       "    </tr>\n",
       "    <tr>\n",
       "      <th>3</th>\n",
       "      <td>2018-10-27T16:44:28</td>\n",
       "      <td>Black and white printer</td>\n",
       "      <td>[4.03, 4.03, 2.71, 3.11, 2.36, 2.36, 2.39, 3.0...</td>\n",
       "    </tr>\n",
       "    <tr>\n",
       "      <th>4</th>\n",
       "      <td>2018-10-27T16:44:30</td>\n",
       "      <td>Black and white printer</td>\n",
       "      <td>[2.71, 3.11, 2.36, 2.36, 2.39, 3.08, 3.69, 3.2...</td>\n",
       "    </tr>\n",
       "  </tbody>\n",
       "</table>\n",
       "</div>"
      ],
      "text/plain": [
       "                  time                   series  \\\n",
       "0  2018-10-27T16:44:25  Black and white printer   \n",
       "1  2018-10-27T16:44:26  Black and white printer   \n",
       "2  2018-10-27T16:44:27  Black and white printer   \n",
       "3  2018-10-27T16:44:28  Black and white printer   \n",
       "4  2018-10-27T16:44:30  Black and white printer   \n",
       "\n",
       "                                    partition_values  \n",
       "0  [3.31, 4.29, 3.77, 4.03, 4.03, 2.71, 3.11, 2.3...  \n",
       "1  [4.29, 3.77, 4.03, 4.03, 2.71, 3.11, 2.36, 2.3...  \n",
       "2  [3.77, 4.03, 4.03, 2.71, 3.11, 2.36, 2.36, 2.3...  \n",
       "3  [4.03, 4.03, 2.71, 3.11, 2.36, 2.36, 2.39, 3.0...  \n",
       "4  [2.71, 3.11, 2.36, 2.36, 2.39, 3.08, 3.69, 3.2...  "
      ]
     },
     "execution_count": 55,
     "metadata": {},
     "output_type": "execute_result"
    }
   ],
   "source": [
    "data_part_df.head()"
   ]
  },
  {
   "cell_type": "markdown",
   "metadata": {},
   "source": [
    "**Generate training/testing data set**"
   ]
  },
  {
   "cell_type": "code",
   "execution_count": 60,
   "metadata": {},
   "outputs": [
    {
     "name": "stdout",
     "output_type": "stream",
     "text": [
      "1069689 train + 526863 test\n"
     ]
    }
   ],
   "source": [
    "X_train, X_test, y_train, y_test = train_test_split(\n",
    "    data_part_df[['time', 'partition_values']], \n",
    "    data_part_df['series'], \n",
    "    test_size=0.33, \n",
    "    random_state=59)\n",
    "print(\"{0} train + {1} test\".format(len(X_train), len(X_test)))"
   ]
  },
  {
   "cell_type": "code",
   "execution_count": null,
   "metadata": {},
   "outputs": [],
   "source": []
  }
 ],
 "metadata": {
  "kernelspec": {
   "display_name": "Python 3",
   "language": "python",
   "name": "python3"
  },
  "language_info": {
   "codemirror_mode": {
    "name": "ipython",
    "version": 3
   },
   "file_extension": ".py",
   "mimetype": "text/x-python",
   "name": "python",
   "nbconvert_exporter": "python",
   "pygments_lexer": "ipython3",
   "version": "3.6.6"
  }
 },
 "nbformat": 4,
 "nbformat_minor": 2
}
